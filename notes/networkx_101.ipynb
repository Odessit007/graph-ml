{
 "cells": [
  {
   "cell_type": "markdown",
   "metadata": {
    "collapsed": true
   },
   "source": [
    "## Introduction\n",
    "**Graph** is a data structure consisting of **nodes**, **edges** that connect nodes, and potentially additional data attached to nodes and/or edges.\n",
    "\n",
    "\n",
    "Typical examples:\n",
    "* social networks\n",
    "* biological networks\n",
    "* transportation networks\n",
    "* computer networks\n",
    "* ontologies\n",
    "* knowledge graphs\n",
    "\n",
    "\n",
    "Main graph types:\n",
    "* by the presence of edge direction:\n",
    "    * undirected graphs: the two nodes of an edge are \"equal\"; there is no notion of edge \"from a to b\" and \"from b to a\"\n",
    "    * directed graphs (or digraphs): the edge is going \"from\" one node \"to\" another\n",
    "* by the allowed number of edges between nodes:\n",
    "    * simple graphs: each pair of nodes can have at most one edge\n",
    "    * multigraphs: there can be more than one edge\n",
    "* by the presence of edges connecting node with itself (**loops**):\n",
    "    * with loops\n",
    "    * without loops\n",
    "* by the presence of weights:\n",
    "    * weighted: there are numbers attached to edges\n",
    "    * unweighted\n",
    "* by the number of nodes:\n",
    "    * finite: there is a finite number of nodes\n",
    "    * infinite: there are infinitely many nodes\n",
    "* by the possibility of changing over time:\n",
    "    * dynamic: if nodes/edges can be added/removed over time\n",
    "    * static: if the graph is given as is and not allowed to be changed\n",
    "\n",
    "\n",
    "Here I consider only *finite* graphs."
   ]
  },
  {
   "cell_type": "markdown",
   "metadata": {},
   "source": [
    "## Mathematical definitions\n",
    "\n",
    "A **simple undirected graph** is a pair $(V, E)$ where\n",
    "* $V$ is a set of **nodes** (also called **vertices**)\n",
    "* $E$ is a set of **edges** (also called **links**)\n",
    "    * edges are represented as *unordered* pairs (or sets) of vertices: edge $\\{a, b\\}$ is the same as edge $\\{b, a\\}$\n",
    "    \n",
    "For **simple directed graph** $E$ contains of *ordered* pairs of vertices: $(a, b)$ and $(b, a)$ are two differente edges. There can be both of them, one of them, or none of them between any pair of nodes.\n",
    "    \n",
    "For **(un)directed multigraph** $E$ is a *multiset* instead of *set*, so the same pair can be present more than once.\n",
    "\n",
    "\n",
    "A **weighted graph** is a triple $(V, E, w)$ where $w: E \\rightarrow \\mathbb{R}$ is a function that assigns **weight** $w(e)$ to each edge $e \\in E$.\n",
    "\n",
    "\n",
    "The **order** of a graph is the number of its vertices $|V|$.\n",
    "\n",
    "The **size** of a graph is the number of its edges $E$.\n",
    "\n",
    "\n",
    "### Adjacency matrix\n",
    "\n",
    "Two nodes $v'$ and $v''$ are called **adjacent** if there is an edge from $v'$ to $v''$.\n",
    "\n",
    "Since for undirected graph, there is no notion of edge direction, the adjacency relation is symmetric for them: $v'$ is adjacent to $v''$ if and only if $v''$ is adjacent to $v'$. This is not necessarily the case for directed graphs.\n",
    "\n",
    "An **adjacency matrix** of a simple graph $G$ is a matrix $A$ of size $|V| \\times |V|$ such that\n",
    "$$ A_{ij} =\n",
    "\\begin{cases}\n",
    "1 & \\text{there is an edge from {i}-th to {j}-th node} \\\\\n",
    "0 & \\text{otherwise}\n",
    "\\end{cases} $$\n",
    "\n",
    "For multigraphs,\n",
    "$$ A_{ij} = \\text{the number of edges from {i}-th to {j}-th node} $$\n",
    "\n",
    "For simple weighted graphs,\n",
    "$$ A_{ij} =\n",
    "\\begin{cases}\n",
    "1 & \\text{the weight from an edge from {i}-th to {j}-th node} \\\\\n",
    "0 & \\text{if there is no edge}\n",
    "\\end{cases} $$\n",
    "\n",
    "I couldn't find or come up with any meaningful definition of an adjacence matrix for weighted multigraphs.\n",
    "\n",
    "The adjacency matrices of undirected graphs are always symmetric.\n",
    "\n",
    "The adjacency matrices of simple graphs always have zeros on the main diagonal.\n",
    "\n",
    "\n",
    "### Density of a simple graph\n",
    "**Graph density** of a simple undirected graph without loops is the ratio between the number of edges it actually has and the number of edges it *can* have:\n",
    "$$D(G) = \\frac{|E|}{\\frac{|V| * (|V| - 1)}{2}} = \\frac{2 |E|}{|V| (|V| - 1)}$$\n",
    "\n",
    "For a simple undirected graph that can have loops,\n",
    "$$D(G) = \\frac{2 |E|}{|V| (|V| + 1)}$$\n",
    "\n",
    "For a simple directed graph without loops,\n",
    "$$D(G) = \\frac{|E|}{|V| (|V| - 1)}$$\n",
    "\n",
    "For a simple directed graph that can have loops,\n",
    "$$D(G) = \\frac{|E|}{|V|^2}$$"
   ]
  },
  {
   "cell_type": "markdown",
   "metadata": {},
   "source": [
    "## Graph representations\n",
    "\n",
    "These are the three main graph representations and their *potential* pros and cons (potential because they depend on the use case):\n",
    "* **adjacency matrix**:\n",
    "    * pro: trivial to check if two nodes are connected: $O(1)$ complexity\n",
    "    * pro: can be efficiently represented as a sparse matrix for graphs with low density\n",
    "    * con: adding or removing edges is costly: matrix has to be resized\n",
    "    * con: space complexity for large highly dense graphs is $O(|V|^2)$\n",
    "    * con: not applicable for weighted multigraphs\n",
    "* **edge list**: literally a list of edges\n",
    "    * pro: applicable for any graph type defined above\n",
    "    * pro: space complexity $O(|E|)$ for any graph\n",
    "    * con: hard to check if two vertices are connected (need to traverse over full list in the worst case)\n",
    "* **adjacency list**: a mapping from a node $v$ to the list of its adjacent nodes (such that there is an edge from $v$ to these nodes)\n",
    "    * pro: space complexity $O(|V| + |E|)$ which strikes a good balance for not too-dense and not too-sparse graphs\n",
    "    * pro: the most efficient way to extract node's adjacent neighbors which is important for many algorithms\n",
    "    * con: checking whether node $u$ is adjacent to node $v$ requries iteration over full list of node $v$\n",
    "    * con: for directed graphs, checking whether node $v$ is adjacent to node $u$ or getting all nodes that $v$ is adjacent to requires iteration over full representation OR storing two lists per node which doubles the memory consumption and slightly complicates the data structure\n",
    "\n",
    "If the graph is highly dense, then each of these methods has to store all edges, so the space complexity is $O(|V|^2)$ in the worst case."
   ]
  },
  {
   "cell_type": "code",
   "execution_count": 1,
   "metadata": {},
   "outputs": [],
   "source": [
    "from pprint import pprint \n",
    "\n",
    "import networkx as nx\n",
    "import numpy as np\n",
    "import scipy"
   ]
  },
  {
   "cell_type": "markdown",
   "metadata": {},
   "source": [
    "## Creating simple undirected graphs in NetworkX"
   ]
  },
  {
   "cell_type": "code",
   "execution_count": 2,
   "metadata": {},
   "outputs": [],
   "source": [
    "V = [0, 1, 2, 3, 4, 5]\n",
    "E = [(0, 1), (1, 2), (1, 3), (3, 4)]"
   ]
  },
  {
   "cell_type": "code",
   "execution_count": 3,
   "metadata": {},
   "outputs": [
    {
     "name": "stdout",
     "output_type": "stream",
     "text": [
      "V1 = [0, 1, 2, 3, 4]\n",
      "|V1| = 5\n",
      "E1 = [(0, 1), (1, 2), (1, 3), (3, 4)]\n",
      "|E1| = 4\n"
     ]
    }
   ],
   "source": [
    "# Create simple undirected graph from ane edge list\n",
    "# default constructor is nx.Graph which is for undirected graphs\n",
    "G1 = nx.from_edgelist(E)\n",
    "# Note that node 5 is absent since it's not found in the edge list\n",
    "print('V1 =', G1.nodes)\n",
    "print('|V1| =', G1.number_of_nodes())\n",
    "print('E1 =', G1.edges)\n",
    "print('|E1| =', G1.number_of_edges())"
   ]
  },
  {
   "cell_type": "code",
   "execution_count": 4,
   "metadata": {},
   "outputs": [
    {
     "data": {
      "text/plain": [
       "EdgeDataView([(0, 1, {}), (1, 2, {}), (1, 3, {}), (3, 4, {})])"
      ]
     },
     "execution_count": 4,
     "metadata": {},
     "output_type": "execute_result"
    }
   ],
   "source": [
    "nx.to_edgelist(G1)"
   ]
  },
  {
   "cell_type": "code",
   "execution_count": 5,
   "metadata": {},
   "outputs": [
    {
     "data": {
      "text/html": [
       "<div>\n",
       "<style scoped>\n",
       "    .dataframe tbody tr th:only-of-type {\n",
       "        vertical-align: middle;\n",
       "    }\n",
       "\n",
       "    .dataframe tbody tr th {\n",
       "        vertical-align: top;\n",
       "    }\n",
       "\n",
       "    .dataframe thead th {\n",
       "        text-align: right;\n",
       "    }\n",
       "</style>\n",
       "<table border=\"1\" class=\"dataframe\">\n",
       "  <thead>\n",
       "    <tr style=\"text-align: right;\">\n",
       "      <th></th>\n",
       "      <th>from</th>\n",
       "      <th>to</th>\n",
       "    </tr>\n",
       "  </thead>\n",
       "  <tbody>\n",
       "    <tr>\n",
       "      <th>0</th>\n",
       "      <td>0</td>\n",
       "      <td>1</td>\n",
       "    </tr>\n",
       "    <tr>\n",
       "      <th>1</th>\n",
       "      <td>1</td>\n",
       "      <td>2</td>\n",
       "    </tr>\n",
       "    <tr>\n",
       "      <th>2</th>\n",
       "      <td>1</td>\n",
       "      <td>3</td>\n",
       "    </tr>\n",
       "    <tr>\n",
       "      <th>3</th>\n",
       "      <td>3</td>\n",
       "      <td>4</td>\n",
       "    </tr>\n",
       "  </tbody>\n",
       "</table>\n",
       "</div>"
      ],
      "text/plain": [
       "   from  to\n",
       "0     0   1\n",
       "1     1   2\n",
       "2     1   3\n",
       "3     3   4"
      ]
     },
     "execution_count": 5,
     "metadata": {},
     "output_type": "execute_result"
    }
   ],
   "source": [
    "nx.to_pandas_edgelist(G1, source='from', target='to')"
   ]
  },
  {
   "cell_type": "code",
   "execution_count": 6,
   "metadata": {},
   "outputs": [
    {
     "data": {
      "text/html": [
       "<div>\n",
       "<style scoped>\n",
       "    .dataframe tbody tr th:only-of-type {\n",
       "        vertical-align: middle;\n",
       "    }\n",
       "\n",
       "    .dataframe tbody tr th {\n",
       "        vertical-align: top;\n",
       "    }\n",
       "\n",
       "    .dataframe thead th {\n",
       "        text-align: right;\n",
       "    }\n",
       "</style>\n",
       "<table border=\"1\" class=\"dataframe\">\n",
       "  <thead>\n",
       "    <tr style=\"text-align: right;\">\n",
       "      <th></th>\n",
       "      <th>0</th>\n",
       "      <th>1</th>\n",
       "      <th>2</th>\n",
       "      <th>3</th>\n",
       "      <th>4</th>\n",
       "    </tr>\n",
       "  </thead>\n",
       "  <tbody>\n",
       "    <tr>\n",
       "      <th>0</th>\n",
       "      <td>0.0</td>\n",
       "      <td>1.0</td>\n",
       "      <td>0.0</td>\n",
       "      <td>0.0</td>\n",
       "      <td>0.0</td>\n",
       "    </tr>\n",
       "    <tr>\n",
       "      <th>1</th>\n",
       "      <td>1.0</td>\n",
       "      <td>0.0</td>\n",
       "      <td>1.0</td>\n",
       "      <td>1.0</td>\n",
       "      <td>0.0</td>\n",
       "    </tr>\n",
       "    <tr>\n",
       "      <th>2</th>\n",
       "      <td>0.0</td>\n",
       "      <td>1.0</td>\n",
       "      <td>0.0</td>\n",
       "      <td>0.0</td>\n",
       "      <td>0.0</td>\n",
       "    </tr>\n",
       "    <tr>\n",
       "      <th>3</th>\n",
       "      <td>0.0</td>\n",
       "      <td>1.0</td>\n",
       "      <td>0.0</td>\n",
       "      <td>0.0</td>\n",
       "      <td>1.0</td>\n",
       "    </tr>\n",
       "    <tr>\n",
       "      <th>4</th>\n",
       "      <td>0.0</td>\n",
       "      <td>0.0</td>\n",
       "      <td>0.0</td>\n",
       "      <td>1.0</td>\n",
       "      <td>0.0</td>\n",
       "    </tr>\n",
       "  </tbody>\n",
       "</table>\n",
       "</div>"
      ],
      "text/plain": [
       "     0    1    2    3    4\n",
       "0  0.0  1.0  0.0  0.0  0.0\n",
       "1  1.0  0.0  1.0  1.0  0.0\n",
       "2  0.0  1.0  0.0  0.0  0.0\n",
       "3  0.0  1.0  0.0  0.0  1.0\n",
       "4  0.0  0.0  0.0  1.0  0.0"
      ]
     },
     "execution_count": 6,
     "metadata": {},
     "output_type": "execute_result"
    }
   ],
   "source": [
    "nx.to_pandas_adjacency(G1)"
   ]
  },
  {
   "cell_type": "code",
   "execution_count": 7,
   "metadata": {},
   "outputs": [
    {
     "name": "stdout",
     "output_type": "stream",
     "text": [
      "type(A1_scipy) = <class 'scipy.sparse._arrays.csr_array'>\n",
      "A1_scipy.shape = (5, 5)\n",
      "  (0, 1)\t1\n",
      "  (1, 0)\t1\n",
      "  (1, 2)\t1\n",
      "  (1, 3)\t1\n",
      "  (2, 1)\t1\n",
      "  (3, 1)\t1\n",
      "  (3, 4)\t1\n",
      "  (4, 3)\t1\n",
      "\n",
      "# Converting A1_scipy to numpy.NDarray\n",
      "type(A1_ndarray) = <class 'numpy.ndarray'>\n",
      "A1_ndarray is symmetric: True\n",
      "[[0 1 0 0 0]\n",
      " [1 0 1 1 0]\n",
      " [0 1 0 0 0]\n",
      " [0 1 0 0 1]\n",
      " [0 0 0 1 0]]\n",
      "\n",
      "type(A1) = <class 'numpy.ndarray'>\n",
      "A1.shape = (5, 5)\n",
      "A1 == A1_ndarray: True\n"
     ]
    }
   ],
   "source": [
    "A1_scipy = nx.adjacency_matrix(G1)  # This is sparse matrix\n",
    "print('type(A1_scipy) =', type(A1_scipy))\n",
    "print('A1_scipy.shape =', A1_scipy.shape)\n",
    "print(A1_scipy)\n",
    "print()\n",
    "\n",
    "print('# Converting A1_scipy to numpy.NDarray')\n",
    "A1_ndarray = A1_scipy.toarray()\n",
    "print('type(A1_ndarray) =', type(A1_ndarray))\n",
    "print('A1_ndarray is symmetric:', scipy.linalg.issymmetric(A1_ndarray))\n",
    "print(A1_ndarray)\n",
    "print()\n",
    "\n",
    "A1 = nx.to_numpy_array(G1)\n",
    "print('type(A1) =', type(A1))\n",
    "print('A1.shape =', A1.shape)\n",
    "print('A1 == A1_ndarray:', (A1 == A1_ndarray).all())"
   ]
  },
  {
   "cell_type": "markdown",
   "metadata": {},
   "source": [
    "## Creating simple digraphs in NetworkX"
   ]
  },
  {
   "cell_type": "code",
   "execution_count": 9,
   "metadata": {},
   "outputs": [
    {
     "name": "stdout",
     "output_type": "stream",
     "text": [
      "V2 = [0, 1, 2, 3, 4, 5]\n",
      "|V2| = 6\n",
      "E2 = [(0, 1), (1, 2), (1, 3), (3, 4)]\n",
      "|E2| = 4\n"
     ]
    }
   ],
   "source": [
    "V = [0, 1, 2, 3, 4, 5]\n",
    "E = [(0, 1), (1, 2), (1, 3), (3, 4)]\n",
    "\n",
    "G2 = nx.DiGraph()\n",
    "G2.add_edges_from(E)\n",
    "G2.add_nodes_from(V)\n",
    "\n",
    "# Note that node 5 is present since it was explicitly added in V list\n",
    "print('V2 =', G2.nodes)\n",
    "print('|V2| =', G2.number_of_nodes())\n",
    "print('E2 =', G2.edges)\n",
    "print('|E2| =', G2.number_of_edges())"
   ]
  },
  {
   "cell_type": "code",
   "execution_count": 10,
   "metadata": {},
   "outputs": [
    {
     "name": "stdout",
     "output_type": "stream",
     "text": [
      "A2.shape = (6, 6)\n",
      "A2 is symmetric: False\n",
      "[[0. 1. 0. 0. 0. 0.]\n",
      " [0. 0. 1. 1. 0. 0.]\n",
      " [0. 0. 0. 0. 0. 0.]\n",
      " [0. 0. 0. 0. 1. 0.]\n",
      " [0. 0. 0. 0. 0. 0.]\n",
      " [0. 0. 0. 0. 0. 0.]]\n"
     ]
    }
   ],
   "source": [
    "A2 = nx.to_numpy_array(G2)\n",
    "print('A2.shape =', A2.shape)\n",
    "print('A2 is symmetric:', scipy.linalg.issymmetric(A2))\n",
    "print(A2)"
   ]
  },
  {
   "cell_type": "code",
   "execution_count": 11,
   "metadata": {},
   "outputs": [
    {
     "name": "stdout",
     "output_type": "stream",
     "text": [
      "G3.nodes == G2.nodes: True\n",
      "G3.edges == G2.edges: True\n",
      "A3 == A2: True\n"
     ]
    }
   ],
   "source": [
    "# Creating graph from an adjacency matrix\n",
    "G3 = nx.from_numpy_array(A2, create_using=nx.DiGraph)\n",
    "print('G3.nodes == G2.nodes:', G3.nodes == G2.nodes)\n",
    "print('G3.edges == G2.edges:', G3.edges == G2.edges)\n",
    "A3 = nx.adjacency_matrix(G3).toarray()\n",
    "print('A3 == A2:', (A3 == A2).all())"
   ]
  },
  {
   "cell_type": "code",
   "execution_count": 12,
   "metadata": {},
   "outputs": [
    {
     "name": "stdout",
     "output_type": "stream",
     "text": [
      "G4.nodes == G2.nodes: True\n",
      "G4.edges == G2.edges: True\n",
      "A4 == A2: True\n"
     ]
    }
   ],
   "source": [
    "# Creating graph from an adjacency mapping \n",
    "adjacency_mapping = {\n",
    "    0: [1],\n",
    "    1: [2, 3],\n",
    "    2: [],\n",
    "    3: [4],\n",
    "    4: [],\n",
    "    5: []\n",
    "}\n",
    "G4 = nx.from_dict_of_lists(adjacency_mapping, create_using=nx.DiGraph)\n",
    "print('G4.nodes == G2.nodes:', G4.nodes == G2.nodes)\n",
    "print('G4.edges == G2.edges:', G4.edges == G2.edges)\n",
    "A4 = nx.to_numpy_array(G4)\n",
    "print('A4 == A2:', (A4 == A2).all())"
   ]
  },
  {
   "cell_type": "code",
   "execution_count": 13,
   "metadata": {},
   "outputs": [
    {
     "name": "stdout",
     "output_type": "stream",
     "text": [
      "0: [1]\n",
      "1: [2, 3]\n",
      "2: []\n",
      "3: [4]\n",
      "4: []\n",
      "5: []\n"
     ]
    }
   ],
   "source": [
    "# Converting graph to adjacency mapping\n",
    "for key, val in nx.to_dict_of_lists(G4).items():\n",
    "    print(f'{key}: {val}')"
   ]
  },
  {
   "cell_type": "code",
   "execution_count": 14,
   "metadata": {},
   "outputs": [
    {
     "name": "stdout",
     "output_type": "stream",
     "text": [
      "0: {1: {}}\n",
      "1: {2: {}, 3: {}}\n",
      "2: {}\n",
      "3: {4: {}}\n",
      "4: {}\n",
      "5: {}\n"
     ]
    }
   ],
   "source": [
    "# Converting graph to adjacency mapping -- another version\n",
    "for key, val in nx.to_dict_of_dicts(G4).items():\n",
    "    print(f'{key}: {val}')"
   ]
  },
  {
   "cell_type": "markdown",
   "metadata": {},
   "source": [
    "## Creating multi(di)graphs"
   ]
  },
  {
   "cell_type": "code",
   "execution_count": 15,
   "metadata": {},
   "outputs": [
    {
     "name": "stdout",
     "output_type": "stream",
     "text": [
      "V5 = [0, 1, 2]\n",
      "|V5| = 3\n",
      "E5 = [(0, 0, 0), (0, 1, 0), (0, 1, 1), (2, 1, 0), (2, 1, 1), (2, 1, 2), (2, 2, 0)]\n",
      "|E5| = 7\n",
      "[[1. 2. 0.]\n",
      " [0. 0. 0.]\n",
      " [0. 3. 1.]]\n"
     ]
    }
   ],
   "source": [
    "G5 = nx.from_numpy_array(\n",
    "    np.array([[1, 2, 0], [0, 0, 0], [0, 3, 1]]),\n",
    "    parallel_edges=True,\n",
    "    create_using=nx.MultiDiGraph)\n",
    "print('V5 =', G5.nodes)\n",
    "print('|V5| =', G5.number_of_nodes())\n",
    "print('E5 =', G5.edges)\n",
    "print('|E5| =', G5.number_of_edges())\n",
    "print(nx.to_numpy_array(G5))"
   ]
  },
  {
   "cell_type": "code",
   "execution_count": 16,
   "metadata": {},
   "outputs": [
    {
     "data": {
      "text/html": [
       "<div>\n",
       "<style scoped>\n",
       "    .dataframe tbody tr th:only-of-type {\n",
       "        vertical-align: middle;\n",
       "    }\n",
       "\n",
       "    .dataframe tbody tr th {\n",
       "        vertical-align: top;\n",
       "    }\n",
       "\n",
       "    .dataframe thead th {\n",
       "        text-align: right;\n",
       "    }\n",
       "</style>\n",
       "<table border=\"1\" class=\"dataframe\">\n",
       "  <thead>\n",
       "    <tr style=\"text-align: right;\">\n",
       "      <th></th>\n",
       "      <th>source</th>\n",
       "      <th>target</th>\n",
       "      <th>edge_key</th>\n",
       "      <th>weight</th>\n",
       "    </tr>\n",
       "  </thead>\n",
       "  <tbody>\n",
       "    <tr>\n",
       "      <th>0</th>\n",
       "      <td>0</td>\n",
       "      <td>0</td>\n",
       "      <td>0</td>\n",
       "      <td>1</td>\n",
       "    </tr>\n",
       "    <tr>\n",
       "      <th>1</th>\n",
       "      <td>0</td>\n",
       "      <td>1</td>\n",
       "      <td>0</td>\n",
       "      <td>1</td>\n",
       "    </tr>\n",
       "    <tr>\n",
       "      <th>2</th>\n",
       "      <td>0</td>\n",
       "      <td>1</td>\n",
       "      <td>1</td>\n",
       "      <td>1</td>\n",
       "    </tr>\n",
       "    <tr>\n",
       "      <th>3</th>\n",
       "      <td>2</td>\n",
       "      <td>1</td>\n",
       "      <td>0</td>\n",
       "      <td>1</td>\n",
       "    </tr>\n",
       "    <tr>\n",
       "      <th>4</th>\n",
       "      <td>2</td>\n",
       "      <td>1</td>\n",
       "      <td>1</td>\n",
       "      <td>1</td>\n",
       "    </tr>\n",
       "    <tr>\n",
       "      <th>5</th>\n",
       "      <td>2</td>\n",
       "      <td>1</td>\n",
       "      <td>2</td>\n",
       "      <td>1</td>\n",
       "    </tr>\n",
       "    <tr>\n",
       "      <th>6</th>\n",
       "      <td>2</td>\n",
       "      <td>2</td>\n",
       "      <td>0</td>\n",
       "      <td>1</td>\n",
       "    </tr>\n",
       "  </tbody>\n",
       "</table>\n",
       "</div>"
      ],
      "text/plain": [
       "   source  target  edge_key  weight\n",
       "0       0       0         0       1\n",
       "1       0       1         0       1\n",
       "2       0       1         1       1\n",
       "3       2       1         0       1\n",
       "4       2       1         1       1\n",
       "5       2       1         2       1\n",
       "6       2       2         0       1"
      ]
     },
     "execution_count": 16,
     "metadata": {},
     "output_type": "execute_result"
    }
   ],
   "source": [
    "nx.to_pandas_edgelist(G5, edge_key='edge_key')"
   ]
  },
  {
   "cell_type": "code",
   "execution_count": 17,
   "metadata": {},
   "outputs": [
    {
     "data": {
      "text/plain": [
       "OutMultiEdgeDataView([(0, 0, {'weight': 1}), (0, 1, {'weight': 1}), (0, 1, {'weight': 1}), (2, 1, {'weight': 1}), (2, 1, {'weight': 1}), (2, 1, {'weight': 1}), (2, 2, {'weight': 1})])"
      ]
     },
     "execution_count": 17,
     "metadata": {},
     "output_type": "execute_result"
    }
   ],
   "source": [
    "nx.to_edgelist(G5)"
   ]
  },
  {
   "cell_type": "code",
   "execution_count": 18,
   "metadata": {},
   "outputs": [
    {
     "data": {
      "text/plain": [
       "{0: [0, 1], 1: [], 2: [1, 2]}"
      ]
     },
     "execution_count": 18,
     "metadata": {},
     "output_type": "execute_result"
    }
   ],
   "source": [
    "nx.to_dict_of_lists(G5)  # No multi-edges"
   ]
  },
  {
   "cell_type": "code",
   "execution_count": 19,
   "metadata": {},
   "outputs": [
    {
     "data": {
      "text/plain": [
       "{0: {0: {0: {'weight': 1}}, 1: {0: {'weight': 1}, 1: {'weight': 1}}},\n",
       " 1: {},\n",
       " 2: {1: {0: {'weight': 1}, 1: {'weight': 1}, 2: {'weight': 1}},\n",
       "  2: {0: {'weight': 1}}}}"
      ]
     },
     "execution_count": 19,
     "metadata": {},
     "output_type": "execute_result"
    }
   ],
   "source": [
    "nx.to_dict_of_dicts(G5)"
   ]
  },
  {
   "cell_type": "markdown",
   "metadata": {},
   "source": [
    "## Attributes and weights"
   ]
  },
  {
   "cell_type": "code",
   "execution_count": 20,
   "metadata": {},
   "outputs": [
    {
     "name": "stdout",
     "output_type": "stream",
     "text": [
      "Original name: Nice graph\n",
      "Name after change: Awesome graph\n",
      "Directed: True\n",
      "Weighed: False\n"
     ]
    }
   ],
   "source": [
    "# Graph attributes can be added during creation\n",
    "g = nx.DiGraph(name='Nice graph', label=42, type='digraph')\n",
    "print('Original name:', g.name)\n",
    "g.name = 'Awesome graph'\n",
    "print('Name after change:', g.name)\n",
    "print('Directed:', nx.is_directed(g))\n",
    "print('Weighed:', nx.is_weighted(g))"
   ]
  },
  {
   "cell_type": "code",
   "execution_count": 21,
   "metadata": {},
   "outputs": [
    {
     "name": "stdout",
     "output_type": "stream",
     "text": [
      "node a; ix=0; type=even; subtype=None\n",
      "node b; ix=1; type=odd; subtype=mono\n",
      "node c; ix=2; type=even; subtype=duo\n",
      "node d; ix=3; type=even; subtype=None\n"
     ]
    }
   ],
   "source": [
    "# Node attributes can be added with add_something commands:\n",
    "g.add_node('a', ix=0, type='even')\n",
    "g.add_nodes_from([\n",
    "    ['b', dict(ix=1, type='odd', subtype='mono')],\n",
    "    ['c', dict(ix=2, type='even', subtype='duo')],\n",
    "    ['d', dict(ix=3, type='even')]\n",
    "])\n",
    "for v in g.nodes:\n",
    "    ix = g.nodes[v]['ix']\n",
    "    type_ = g.nodes[v]['type']\n",
    "    try:\n",
    "        subtype = g.nodes[v]['subtype']\n",
    "    except KeyError:\n",
    "        subtype = None\n",
    "    print(f'node {v}; ix={ix}; type={type_}; subtype={subtype}')"
   ]
  },
  {
   "cell_type": "code",
   "execution_count": 22,
   "metadata": {},
   "outputs": [
    {
     "data": {
      "text/plain": [
       "networkx.classes.reportviews.NodeView"
      ]
     },
     "execution_count": 22,
     "metadata": {},
     "output_type": "execute_result"
    }
   ],
   "source": [
    "type(g.nodes)"
   ]
  },
  {
   "cell_type": "code",
   "execution_count": 23,
   "metadata": {},
   "outputs": [
    {
     "name": "stdout",
     "output_type": "stream",
     "text": [
      "'a' <class 'str'>\n"
     ]
    }
   ],
   "source": [
    "v = next(iter(g.nodes))\n",
    "print(repr(v), type(v))"
   ]
  },
  {
   "cell_type": "code",
   "execution_count": 24,
   "metadata": {},
   "outputs": [
    {
     "data": {
      "text/plain": [
       "dict"
      ]
     },
     "execution_count": 24,
     "metadata": {},
     "output_type": "execute_result"
    }
   ],
   "source": [
    "type(g.nodes[v])"
   ]
  },
  {
   "cell_type": "code",
   "execution_count": 25,
   "metadata": {},
   "outputs": [
    {
     "data": {
      "text/plain": [
       "{'ix': 0, 'type': 'even'}"
      ]
     },
     "execution_count": 25,
     "metadata": {},
     "output_type": "execute_result"
    }
   ],
   "source": [
    "g.nodes[v]"
   ]
  },
  {
   "cell_type": "code",
   "execution_count": 26,
   "metadata": {},
   "outputs": [
    {
     "name": "stdout",
     "output_type": "stream",
     "text": [
      "E: [('a', 'b'), ('a', 'c'), ('b', 'c'), ('c', 'd')]\n",
      "edge ('a', 'b'); type=a-b; weight=1\n",
      "edge ('a', 'c'); type=None; weight=42\n",
      "edge ('b', 'c'); type=b-c; weight=None\n",
      "edge ('c', 'd'); type=c-d; weight=1\n"
     ]
    }
   ],
   "source": [
    "# Edge attributes can also be added with add_something commands:\n",
    "g.add_edge('a', 'b', type='a-b', weight=1)\n",
    "g.add_edge('a', 'c', weight=42)\n",
    "g.add_edges_from([\n",
    "    ['b', 'c', dict(type='b-c')],\n",
    "    ['c', 'd', dict(type='c-d', weight=1)]\n",
    "])\n",
    "print('E:', g.edges)\n",
    "for e in g.edges:\n",
    "    type_ = g.edges[e].get('type')\n",
    "    weight = g.edges[e].get('weight')\n",
    "    print(f'edge {e}; type={type_}; weight={weight}')"
   ]
  },
  {
   "cell_type": "code",
   "execution_count": 27,
   "metadata": {},
   "outputs": [
    {
     "data": {
      "text/plain": [
       "False"
      ]
     },
     "execution_count": 27,
     "metadata": {},
     "output_type": "execute_result"
    }
   ],
   "source": [
    "nx.is_weighted(g)"
   ]
  },
  {
   "cell_type": "code",
   "execution_count": 28,
   "metadata": {},
   "outputs": [
    {
     "data": {
      "text/plain": [
       "networkx.classes.reportviews.OutEdgeView"
      ]
     },
     "execution_count": 28,
     "metadata": {},
     "output_type": "execute_result"
    }
   ],
   "source": [
    "type(g.edges)"
   ]
  },
  {
   "cell_type": "code",
   "execution_count": 29,
   "metadata": {},
   "outputs": [
    {
     "name": "stdout",
     "output_type": "stream",
     "text": [
      "('a', 'b') <class 'tuple'>\n"
     ]
    }
   ],
   "source": [
    "e = next(iter(g.edges))\n",
    "print(repr(e), type(e))"
   ]
  },
  {
   "cell_type": "code",
   "execution_count": 30,
   "metadata": {},
   "outputs": [
    {
     "data": {
      "text/plain": [
       "networkx.classes.coreviews.AtlasView"
      ]
     },
     "execution_count": 30,
     "metadata": {},
     "output_type": "execute_result"
    }
   ],
   "source": [
    "type(g['a'])"
   ]
  },
  {
   "cell_type": "code",
   "execution_count": 31,
   "metadata": {},
   "outputs": [
    {
     "data": {
      "text/plain": [
       "AtlasView({'b': {'type': 'a-b', 'weight': 1}, 'c': {'weight': 42}})"
      ]
     },
     "execution_count": 31,
     "metadata": {},
     "output_type": "execute_result"
    }
   ],
   "source": [
    "g['a']"
   ]
  },
  {
   "cell_type": "code",
   "execution_count": 32,
   "metadata": {},
   "outputs": [
    {
     "data": {
      "text/plain": [
       "dict"
      ]
     },
     "execution_count": 32,
     "metadata": {},
     "output_type": "execute_result"
    }
   ],
   "source": [
    "type(g['a']['b'])"
   ]
  },
  {
   "cell_type": "code",
   "execution_count": 33,
   "metadata": {},
   "outputs": [
    {
     "data": {
      "text/plain": [
       "{'type': 'a-b', 'weight': 1}"
      ]
     },
     "execution_count": 33,
     "metadata": {},
     "output_type": "execute_result"
    }
   ],
   "source": [
    "g['a']['b']"
   ]
  },
  {
   "cell_type": "code",
   "execution_count": 34,
   "metadata": {},
   "outputs": [
    {
     "data": {
      "text/plain": [
       "dict"
      ]
     },
     "execution_count": 34,
     "metadata": {},
     "output_type": "execute_result"
    }
   ],
   "source": [
    "type(g.edges[e])"
   ]
  },
  {
   "cell_type": "code",
   "execution_count": 35,
   "metadata": {},
   "outputs": [
    {
     "data": {
      "text/plain": [
       "{'type': 'a-b', 'weight': 1}"
      ]
     },
     "execution_count": 35,
     "metadata": {},
     "output_type": "execute_result"
    }
   ],
   "source": [
    "g.edges[e]"
   ]
  },
  {
   "cell_type": "code",
   "execution_count": 36,
   "metadata": {},
   "outputs": [
    {
     "data": {
      "text/plain": [
       "True"
      ]
     },
     "execution_count": 36,
     "metadata": {},
     "output_type": "execute_result"
    }
   ],
   "source": [
    "g['a']['b'] == g.edges[('a', 'b')]"
   ]
  },
  {
   "cell_type": "code",
   "execution_count": 37,
   "metadata": {},
   "outputs": [
    {
     "data": {
      "text/plain": [
       "OutEdgeDataView([('a', 'b', {'type': 'a-b', 'weight': 1}), ('a', 'c', {'weight': 42}), ('b', 'c', {'type': 'b-c'}), ('c', 'd', {'type': 'c-d', 'weight': 1})])"
      ]
     },
     "execution_count": 37,
     "metadata": {},
     "output_type": "execute_result"
    }
   ],
   "source": [
    "nx.to_edgelist(g)"
   ]
  },
  {
   "cell_type": "code",
   "execution_count": 38,
   "metadata": {},
   "outputs": [
    {
     "data": {
      "text/plain": [
       "array([[ 0.,  1., 42.,  0.],\n",
       "       [ 0.,  0.,  1.,  0.],\n",
       "       [ 0.,  0.,  0.,  1.],\n",
       "       [ 0.,  0.,  0.,  0.]])"
      ]
     },
     "execution_count": 38,
     "metadata": {},
     "output_type": "execute_result"
    }
   ],
   "source": [
    "nx.to_numpy_array(g)"
   ]
  },
  {
   "cell_type": "code",
   "execution_count": 39,
   "metadata": {},
   "outputs": [
    {
     "data": {
      "text/html": [
       "<div>\n",
       "<style scoped>\n",
       "    .dataframe tbody tr th:only-of-type {\n",
       "        vertical-align: middle;\n",
       "    }\n",
       "\n",
       "    .dataframe tbody tr th {\n",
       "        vertical-align: top;\n",
       "    }\n",
       "\n",
       "    .dataframe thead th {\n",
       "        text-align: right;\n",
       "    }\n",
       "</style>\n",
       "<table border=\"1\" class=\"dataframe\">\n",
       "  <thead>\n",
       "    <tr style=\"text-align: right;\">\n",
       "      <th></th>\n",
       "      <th>a</th>\n",
       "      <th>b</th>\n",
       "      <th>c</th>\n",
       "      <th>d</th>\n",
       "    </tr>\n",
       "  </thead>\n",
       "  <tbody>\n",
       "    <tr>\n",
       "      <th>a</th>\n",
       "      <td>0.0</td>\n",
       "      <td>1.0</td>\n",
       "      <td>42.0</td>\n",
       "      <td>0.0</td>\n",
       "    </tr>\n",
       "    <tr>\n",
       "      <th>b</th>\n",
       "      <td>0.0</td>\n",
       "      <td>0.0</td>\n",
       "      <td>1.0</td>\n",
       "      <td>0.0</td>\n",
       "    </tr>\n",
       "    <tr>\n",
       "      <th>c</th>\n",
       "      <td>0.0</td>\n",
       "      <td>0.0</td>\n",
       "      <td>0.0</td>\n",
       "      <td>1.0</td>\n",
       "    </tr>\n",
       "    <tr>\n",
       "      <th>d</th>\n",
       "      <td>0.0</td>\n",
       "      <td>0.0</td>\n",
       "      <td>0.0</td>\n",
       "      <td>0.0</td>\n",
       "    </tr>\n",
       "  </tbody>\n",
       "</table>\n",
       "</div>"
      ],
      "text/plain": [
       "     a    b     c    d\n",
       "a  0.0  1.0  42.0  0.0\n",
       "b  0.0  0.0   1.0  0.0\n",
       "c  0.0  0.0   0.0  1.0\n",
       "d  0.0  0.0   0.0  0.0"
      ]
     },
     "execution_count": 39,
     "metadata": {},
     "output_type": "execute_result"
    }
   ],
   "source": [
    "nx.to_pandas_adjacency(g)"
   ]
  },
  {
   "cell_type": "code",
   "execution_count": 40,
   "metadata": {},
   "outputs": [
    {
     "data": {
      "text/html": [
       "<div>\n",
       "<style scoped>\n",
       "    .dataframe tbody tr th:only-of-type {\n",
       "        vertical-align: middle;\n",
       "    }\n",
       "\n",
       "    .dataframe tbody tr th {\n",
       "        vertical-align: top;\n",
       "    }\n",
       "\n",
       "    .dataframe thead th {\n",
       "        text-align: right;\n",
       "    }\n",
       "</style>\n",
       "<table border=\"1\" class=\"dataframe\">\n",
       "  <thead>\n",
       "    <tr style=\"text-align: right;\">\n",
       "      <th></th>\n",
       "      <th>source</th>\n",
       "      <th>target</th>\n",
       "      <th>type</th>\n",
       "      <th>weight</th>\n",
       "    </tr>\n",
       "  </thead>\n",
       "  <tbody>\n",
       "    <tr>\n",
       "      <th>0</th>\n",
       "      <td>a</td>\n",
       "      <td>b</td>\n",
       "      <td>a-b</td>\n",
       "      <td>1.0</td>\n",
       "    </tr>\n",
       "    <tr>\n",
       "      <th>1</th>\n",
       "      <td>a</td>\n",
       "      <td>c</td>\n",
       "      <td>NaN</td>\n",
       "      <td>42.0</td>\n",
       "    </tr>\n",
       "    <tr>\n",
       "      <th>2</th>\n",
       "      <td>b</td>\n",
       "      <td>c</td>\n",
       "      <td>b-c</td>\n",
       "      <td>NaN</td>\n",
       "    </tr>\n",
       "    <tr>\n",
       "      <th>3</th>\n",
       "      <td>c</td>\n",
       "      <td>d</td>\n",
       "      <td>c-d</td>\n",
       "      <td>1.0</td>\n",
       "    </tr>\n",
       "  </tbody>\n",
       "</table>\n",
       "</div>"
      ],
      "text/plain": [
       "  source target type  weight\n",
       "0      a      b  a-b     1.0\n",
       "1      a      c  NaN    42.0\n",
       "2      b      c  b-c     NaN\n",
       "3      c      d  c-d     1.0"
      ]
     },
     "execution_count": 40,
     "metadata": {},
     "output_type": "execute_result"
    }
   ],
   "source": [
    "nx.to_pandas_edgelist(g)"
   ]
  },
  {
   "cell_type": "markdown",
   "metadata": {},
   "source": [
    "## Neighbors\n",
    "\n",
    "**Neighbors** of node $v$ are nodes that have an edge to or from $v$.\n",
    "\n",
    "**Ego graph** (or **neighborhood graph**) of node $v$ is a graph that consists of node $v$, its neighbors and all the edges between these nodes.\n",
    "\n",
    "The **degree** of node $v$ in an undirected graph is the number of edges to/from node $v$.\n",
    "\n",
    "If the graph is simple, there can be at most one edge between two nodes, so the degree in this case is the number of neighbors.\n",
    "\n",
    "In directed graph there are two notions of degree:\n",
    "* **in-degree**: the number of edges going o $v$\n",
    "* **out-degree**: the number of edges going from $v$\n",
    "\n",
    "All three degree definitions above are applicable for simple graphs and for multigraphs as well."
   ]
  },
  {
   "cell_type": "code",
   "execution_count": 41,
   "metadata": {},
   "outputs": [
    {
     "name": "stdout",
     "output_type": "stream",
     "text": [
      "Nodes: [0, 1, 2, 3]\n",
      "Edges: [(0, 1), (1, 2), (1, 3)]\n"
     ]
    }
   ],
   "source": [
    "# Ego graph inside undirected graph\n",
    "G1_ego_1 = nx.ego_graph(G1, 1)\n",
    "print('Nodes:', G1_ego_1.nodes)\n",
    "print('Edges:', G1_ego_1.edges)"
   ]
  },
  {
   "cell_type": "code",
   "execution_count": 42,
   "metadata": {},
   "outputs": [
    {
     "name": "stdout",
     "output_type": "stream",
     "text": [
      "Nodes: [1, 2, 3]\n",
      "Edges: [(1, 2), (1, 3)]\n"
     ]
    }
   ],
   "source": [
    "# Ego graph inside directed graph\n",
    "G3_ego_1 = nx.ego_graph(G3, 1)\n",
    "print('Nodes:', G3_ego_1.nodes)\n",
    "print('Edges:', G3_ego_1.edges)"
   ]
  },
  {
   "cell_type": "code",
   "execution_count": 43,
   "metadata": {},
   "outputs": [
    {
     "name": "stdout",
     "output_type": "stream",
     "text": [
      "[(0, 1), (1, 2), (1, 3), (3, 4)]\n",
      "deg(0) = 1\n",
      "deg(1) = 3\n",
      "deg(2) = 1\n",
      "deg(3) = 2\n",
      "deg(4) = 1\n"
     ]
    }
   ],
   "source": [
    "# Degrees in undirected graph\n",
    "print(G1.edges)\n",
    "for v in G1.nodes:\n",
    "    print(f'deg({v}) = {G1.degree(v)}')"
   ]
  },
  {
   "cell_type": "code",
   "execution_count": 44,
   "metadata": {},
   "outputs": [
    {
     "name": "stdout",
     "output_type": "stream",
     "text": [
      "[(0, 1), (1, 2), (1, 3), (3, 4)]\n",
      "deg-(0) = 0\n",
      "deg+(0) = 1\n",
      "\n",
      "deg-(1) = 1\n",
      "deg+(1) = 2\n",
      "\n",
      "deg-(2) = 1\n",
      "deg+(2) = 0\n",
      "\n",
      "deg-(3) = 1\n",
      "deg+(3) = 1\n",
      "\n",
      "deg-(4) = 1\n",
      "deg+(4) = 0\n",
      "\n",
      "deg-(5) = 0\n",
      "deg+(5) = 0\n",
      "\n"
     ]
    }
   ],
   "source": [
    "# Degrees in directed graph\n",
    "print(G2.edges)\n",
    "for v in G2.nodes:\n",
    "    print(f'deg-({v}) = {G2.in_degree(v)}')\n",
    "    print(f'deg+({v}) = {G2.out_degree(v)}')\n",
    "    print()"
   ]
  }
 ],
 "metadata": {
  "kernelspec": {
   "display_name": "Python 3 (ipykernel)",
   "language": "python",
   "name": "python3"
  },
  "language_info": {
   "codemirror_mode": {
    "name": "ipython",
    "version": 3
   },
   "file_extension": ".py",
   "mimetype": "text/x-python",
   "name": "python",
   "nbconvert_exporter": "python",
   "pygments_lexer": "ipython3",
   "version": "3.10.11"
  }
 },
 "nbformat": 4,
 "nbformat_minor": 1
}
